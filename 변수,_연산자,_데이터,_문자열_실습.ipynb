{
  "nbformat": 4,
  "nbformat_minor": 0,
  "metadata": {
    "colab": {
      "provenance": [],
      "toc_visible": true,
      "authorship_tag": "ABX9TyNlMVa0M1+JUCZ9M85omXDS",
      "include_colab_link": true
    },
    "kernelspec": {
      "name": "python3",
      "display_name": "Python 3"
    },
    "language_info": {
      "name": "python"
    }
  },
  "cells": [
    {
      "cell_type": "markdown",
      "metadata": {
        "id": "view-in-github",
        "colab_type": "text"
      },
      "source": [
        "<a href=\"https://colab.research.google.com/github/rlac9/Python-/blob/main/%EB%B3%80%EC%88%98%2C_%EC%97%B0%EC%82%B0%EC%9E%90%2C_%EB%8D%B0%EC%9D%B4%ED%84%B0%2C_%EB%AC%B8%EC%9E%90%EC%97%B4_%EC%8B%A4%EC%8A%B5.ipynb\" target=\"_parent\"><img src=\"https://colab.research.google.com/assets/colab-badge.svg\" alt=\"Open In Colab\"/></a>"
      ]
    },
    {
      "cell_type": "markdown",
      "source": [
        "**변수, 연산자, 데이터, 문자열 실습**"
      ],
      "metadata": {
        "id": "HJJgIjZ0IW0L"
      }
    },
    {
      "cell_type": "code",
      "source": [
        "a = 100\n",
        "print(a)"
      ],
      "metadata": {
        "id": "RVC_MEFJH8oK"
      },
      "execution_count": null,
      "outputs": []
    },
    {
      "cell_type": "code",
      "source": [
        "4 == 9 # 거짓 false\n",
        "4!=9  #과연 참일까 yes ! This is ture"
      ],
      "metadata": {
        "colab": {
          "base_uri": "https://localhost:8080/"
        },
        "id": "IVyZj4FcLLsq",
        "outputId": "9f3fc772-0f52-4c19-89c9-103d11db4ddd"
      },
      "execution_count": null,
      "outputs": [
        {
          "output_type": "execute_result",
          "data": {
            "text/plain": [
              "True"
            ]
          },
          "metadata": {},
          "execution_count": 4
        }
      ]
    },
    {
      "cell_type": "markdown",
      "source": [
        "변수 선언"
      ],
      "metadata": {
        "id": "5PCs7jT4L8Jd"
      }
    },
    {
      "cell_type": "code",
      "source": [
        "temperature = 100\n",
        "temperature * 10 #값 1000\n",
        "temperature #값 100"
      ],
      "metadata": {
        "colab": {
          "base_uri": "https://localhost:8080/"
        },
        "id": "SQwcAEunL_Sk",
        "outputId": "9803937b-7dd8-4bc4-e0b1-d79af1042b84"
      },
      "execution_count": null,
      "outputs": [
        {
          "output_type": "execute_result",
          "data": {
            "text/plain": [
              "100"
            ]
          },
          "metadata": {},
          "execution_count": 5
        }
      ]
    },
    {
      "cell_type": "code",
      "source": [
        "sum, roor = None, None # None 초기\n",
        "print(sum, roor)"
      ],
      "metadata": {
        "colab": {
          "base_uri": "https://localhost:8080/"
        },
        "id": "SQvSteqBMbMV",
        "outputId": "9d34def8-8430-4853-fbec-40d78663519a"
      },
      "execution_count": null,
      "outputs": [
        {
          "output_type": "stream",
          "name": "stdout",
          "text": [
            "None None\n"
          ]
        }
      ]
    },
    {
      "cell_type": "markdown",
      "source": [
        "주석이란?"
      ],
      "metadata": {
        "id": "Awtd8RXvM6Mz"
      }
    },
    {
      "cell_type": "code",
      "source": [
        "# 이 텍스트는 출력되지 않습니다. ㄹㅇ로 출력 안됨"
      ],
      "metadata": {
        "id": "8lZMeiokM-Ej"
      },
      "execution_count": null,
      "outputs": []
    },
    {
      "cell_type": "markdown",
      "source": [
        "산술 연산자란?"
      ],
      "metadata": {
        "id": "Q6BejKD_NIOg"
      }
    },
    {
      "cell_type": "code",
      "source": [
        "a=5\n",
        "b=4\n",
        "print(a+b)\n",
        "print(a-b)\n",
        "print(a*b)\n",
        "print(a/b)\n",
        "print(a//b)#몫\n",
        "print(a%b)#나머지\n",
        "print(a**b)#지수\n"
      ],
      "metadata": {
        "colab": {
          "base_uri": "https://localhost:8080/"
        },
        "id": "sF94N-XCNK3f",
        "outputId": "276a5ec3-6913-4b08-ef34-1ccf6d046326"
      },
      "execution_count": null,
      "outputs": [
        {
          "output_type": "stream",
          "name": "stdout",
          "text": [
            "9\n",
            "1\n",
            "20\n",
            "1.25\n",
            "1\n",
            "1\n",
            "625\n"
          ]
        }
      ]
    },
    {
      "cell_type": "code",
      "source": [
        "# 동전교환 (500,100,50,10,1)\n",
        "money = 8996\n",
        "\n",
        "w500 = money // 500\n",
        "money = money % 500\n",
        "w100 = money // 100\n",
        "money = money % 100\n",
        "w50 = money // 50\n",
        "money = money % 50\n",
        "w10 = money // 10\n",
        "money = money % 10\n",
        "w1 = money // 1\n",
        "money = money % 1\n",
        "print('500원짜리 : ',w500)\n",
        "print('100원짜리 : ',w100)\n",
        "print('50원짜리 : ',w50)\n",
        "print('10원짜리 : ',w10)\n",
        "print('1원짜리 : ',w1)\n",
        "print('전체 돈 : ',500*w500+100*w100+50*w50+10*w10+1*w1+money)\n",
        "\n"
      ],
      "metadata": {
        "colab": {
          "base_uri": "https://localhost:8080/"
        },
        "id": "xs-LGShBOMa9",
        "outputId": "310c9f5a-cfd3-42a7-d2ae-69765bfb0fa5"
      },
      "execution_count": 5,
      "outputs": [
        {
          "output_type": "stream",
          "name": "stdout",
          "text": [
            "500원짜리 :  17\n",
            "100원짜리 :  4\n",
            "50원짜리 :  1\n",
            "10원짜리 :  4\n",
            "1원짜리 :  6\n",
            "전체 돈 :  8996\n"
          ]
        }
      ]
    },
    {
      "cell_type": "markdown",
      "source": [
        "8996 = 500 * 19 = 496\n",
        "496 = 100 * 4 = 96\n",
        "96 = 50 * 1 = 46\n",
        "46 = 10 * 4 = 6\n",
        "6 = 5 * 1 = 1\n"
      ],
      "metadata": {
        "id": "n2O0J-BMOq4t"
      }
    },
    {
      "cell_type": "markdown",
      "source": [
        "# 이스케이프 코드\n",
        "* \\n : 문장에서 shift를 치는 효과와 같음\n",
        "* \\t : t 키를 누른 효과와 같음\n",
        "* \\d : backspase를 누루는 효과와 같음. 즉 뒤로 한칸 가기😙"
      ],
      "metadata": {
        "id": "0_JKhBRLTrh2"
      }
    },
    {
      "cell_type": "code",
      "source": [
        "print('첫번째줄\\n두번째줄')"
      ],
      "metadata": {
        "colab": {
          "base_uri": "https://localhost:8080/"
        },
        "id": "LcF9W53gr2Lr",
        "outputId": "7350c317-6f59-48bc-fbbc-911fb66048cd"
      },
      "execution_count": 27,
      "outputs": [
        {
          "output_type": "stream",
          "name": "stdout",
          "text": [
            "첫번째줄\n",
            "두번째줄\n"
          ]
        }
      ]
    },
    {
      "cell_type": "code",
      "source": [
        "print('\\n줄바꿈\\n\\d백슬레시')"
      ],
      "metadata": {
        "colab": {
          "base_uri": "https://localhost:8080/"
        },
        "id": "zxCEnM7NsCyI",
        "outputId": "4c86f050-c34b-44f4-b8c3-653366ce8fff"
      },
      "execution_count": 26,
      "outputs": [
        {
          "output_type": "stream",
          "name": "stdout",
          "text": [
            "\n",
            "줄바꿈\n",
            "\\d백슬레시\n"
          ]
        }
      ]
    },
    {
      "cell_type": "code",
      "source": [
        "a=120\n",
        "b=10\n",
        "type = (b)\n"
      ],
      "metadata": {
        "id": "crM1-aJestwI"
      },
      "execution_count": 25,
      "outputs": []
    },
    {
      "cell_type": "code",
      "source": [
        "dd='Hello World!'\n",
        "dd[1]\n",
        "dd[0:3] # 인덱스 자르기"
      ],
      "metadata": {
        "colab": {
          "base_uri": "https://localhost:8080/",
          "height": 35
        },
        "id": "UBcEbsfrtZHo",
        "outputId": "d2a8b9b8-e770-4266-f989-b41147d9da37"
      },
      "execution_count": 29,
      "outputs": [
        {
          "output_type": "execute_result",
          "data": {
            "text/plain": [
              "'Hel'"
            ],
            "application/vnd.google.colaboratory.intrinsic+json": {
              "type": "string"
            }
          },
          "metadata": {},
          "execution_count": 29
        }
      ]
    },
    {
      "cell_type": "code",
      "source": [
        "abd = 'my name is pop'\n",
        "abd[-1]"
      ],
      "metadata": {
        "colab": {
          "base_uri": "https://localhost:8080/",
          "height": 35
        },
        "id": "6sxjKQPvt9GH",
        "outputId": "ca3bff6b-05ad-400c-8190-6ade190edd2e"
      },
      "execution_count": 31,
      "outputs": [
        {
          "output_type": "execute_result",
          "data": {
            "text/plain": [
              "'p'"
            ],
            "application/vnd.google.colaboratory.intrinsic+json": {
              "type": "string"
            }
          },
          "metadata": {},
          "execution_count": 31
        }
      ]
    }
  ]
}