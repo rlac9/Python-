{
  "nbformat": 4,
  "nbformat_minor": 0,
  "metadata": {
    "colab": {
      "provenance": [],
      "toc_visible": true,
      "authorship_tag": "ABX9TyN6i386FXA1+Kp1/JgHXjvY",
      "include_colab_link": true
    },
    "kernelspec": {
      "name": "python3",
      "display_name": "Python 3"
    },
    "language_info": {
      "name": "python"
    }
  },
  "cells": [
    {
      "cell_type": "markdown",
      "metadata": {
        "id": "view-in-github",
        "colab_type": "text"
      },
      "source": [
        "<a href=\"https://colab.research.google.com/github/rlac9/Python-/blob/main/%EB%82%B4%20%EC%82%AC%EB%9E%91%20%ED%95%A8%EC%88%98.ipynb\" target=\"_parent\"><img src=\"https://colab.research.google.com/assets/colab-badge.svg\" alt=\"Open In Colab\"/></a>"
      ]
    },
    {
      "cell_type": "markdown",
      "source": [
        "# 함수란?\n",
        "* 함수의 모형새 : def 함수명(): 값 리턴\n"
      ],
      "metadata": {
        "id": "hSAKufdWvsuX"
      }
    },
    {
      "cell_type": "code",
      "source": [
        "def fun():\n",
        "  return None"
      ],
      "metadata": {
        "id": "ej8wW7uEv2Bt"
      },
      "execution_count": 2,
      "outputs": []
    },
    {
      "cell_type": "code",
      "source": [
        "def add(a,b):\n",
        "  result = a+b\n",
        "  return result"
      ],
      "metadata": {
        "id": "9vAUPbPOwzEc"
      },
      "execution_count": 4,
      "outputs": []
    },
    {
      "cell_type": "code",
      "source": [
        "sum = add(3,4)\n",
        "print(sum)"
      ],
      "metadata": {
        "colab": {
          "base_uri": "https://localhost:8080/"
        },
        "id": "JQthnDRKxXYj",
        "outputId": "dab50a5f-c8bd-49b1-eedc-3df3c7b0d7c6"
      },
      "execution_count": 6,
      "outputs": [
        {
          "output_type": "stream",
          "name": "stdout",
          "text": [
            "7\n"
          ]
        }
      ]
    },
    {
      "cell_type": "markdown",
      "source": [
        "# 전역변수와 지역변수\n",
        "* 전역변수: 전체 코드에 적용되는 변수\n",
        "* 지역함수: 함수 def 안에만 적용되는 함수"
      ],
      "metadata": {
        "id": "jFO0hMMwvt72"
      }
    },
    {
      "cell_type": "code",
      "source": [
        "a=10 # 전역변수\n",
        "def func1():\n",
        "  a=20 # 지역변수\n",
        "  print('func1에서 a의 값 %d'%a)\n",
        "\n",
        "def func2():\n",
        "  print('funcl2에서 a의 값 %d'%a)\n",
        "\n",
        "func1()\n",
        "func2()\n"
      ],
      "metadata": {
        "colab": {
          "base_uri": "https://localhost:8080/"
        },
        "id": "6_PPstkTqo4Z",
        "outputId": "91914c49-56c3-46a3-d8d3-e70a237f6d9b"
      },
      "execution_count": 4,
      "outputs": [
        {
          "output_type": "stream",
          "name": "stdout",
          "text": [
            "func1에서 a의 값 20\n",
            "funcl2에서 a의 값 10\n"
          ]
        }
      ]
    },
    {
      "cell_type": "code",
      "source": [
        "def add(x,y,z):\n",
        "  a = x + y + z\n",
        "  return a\n",
        "add(x=102,y=78,z=12)"
      ],
      "metadata": {
        "colab": {
          "base_uri": "https://localhost:8080/"
        },
        "id": "9_VHEj9Sr6_D",
        "outputId": "4e123d62-e059-446c-b529-2baace7761cd"
      },
      "execution_count": 13,
      "outputs": [
        {
          "output_type": "execute_result",
          "data": {
            "text/plain": [
              "192"
            ]
          },
          "metadata": {},
          "execution_count": 13
        }
      ]
    },
    {
      "cell_type": "markdown",
      "source": [
        "# if 문 조건문\n"
      ],
      "metadata": {
        "id": "W0Z2w-9xtWtT"
      }
    },
    {
      "cell_type": "code",
      "source": [
        "# 짝수, 홀수 판별 프로그램\n",
        "def tast_even(num):\n",
        "  if num%2==0:\n",
        "    print('짝수')\n",
        "  else:\n",
        "    pirnt('홀수')\n",
        "tast_even(12)"
      ],
      "metadata": {
        "colab": {
          "base_uri": "https://localhost:8080/"
        },
        "id": "g-88WBq1taUJ",
        "outputId": "fa039ae9-eb4f-42f1-94d3-2ae536a7e0a0"
      },
      "execution_count": 32,
      "outputs": [
        {
          "output_type": "stream",
          "name": "stdout",
          "text": [
            "짝수\n"
          ]
        }
      ]
    },
    {
      "cell_type": "code",
      "source": [
        "# 테스트 합격, 불합격 판별 프로그램\n",
        "def license_pass(score):\n",
        "  if score >= 60:\n",
        "    print('합격')\n",
        "  else:\n",
        "    print('불합격')\n",
        "license_pass(100)"
      ],
      "metadata": {
        "colab": {
          "base_uri": "https://localhost:8080/"
        },
        "id": "FooOROKvyK0o",
        "outputId": "f547918b-9199-46fb-bc9d-5a86a071ffce"
      },
      "execution_count": 34,
      "outputs": [
        {
          "output_type": "stream",
          "name": "stdout",
          "text": [
            "합격\n"
          ]
        }
      ]
    },
    {
      "cell_type": "code",
      "source": [
        "#두 값 중 큰 값만 출력하는 프로그램\n",
        "def comepare(a, b):\n",
        "  if a >= b :\n",
        "    return a\n",
        "  else:\n",
        "    return b\n",
        "comepare(101,102)\n"
      ],
      "metadata": {
        "colab": {
          "base_uri": "https://localhost:8080/"
        },
        "id": "UVGmYP5PzpsN",
        "outputId": "ecff1047-cd38-4160-d6aa-8e9848ffe46b"
      },
      "execution_count": 40,
      "outputs": [
        {
          "output_type": "execute_result",
          "data": {
            "text/plain": [
              "102"
            ]
          },
          "metadata": {},
          "execution_count": 40
        }
      ]
    },
    {
      "cell_type": "code",
      "source": [
        "\n",
        "# 미자와 성인을 구분하는 프로그램\n",
        "# 성인이면 yes 미자면 no 으로 출력\n",
        "def check_age(num):\n",
        "  if num >= 20:\n",
        "    return 'YES'\n",
        "  else:\n",
        "    return 'NO'\n",
        "check_age(34)\n"
      ],
      "metadata": {
        "colab": {
          "base_uri": "https://localhost:8080/",
          "height": 35
        },
        "id": "qT6CdUlU0pGU",
        "outputId": "ec7c8b96-5db8-4a94-ddae-59c76d4f36a1"
      },
      "execution_count": 50,
      "outputs": [
        {
          "output_type": "execute_result",
          "data": {
            "text/plain": [
              "'YES'"
            ],
            "application/vnd.google.colaboratory.intrinsic+json": {
              "type": "string"
            }
          },
          "metadata": {},
          "execution_count": 50
        }
      ]
    },
    {
      "cell_type": "code",
      "source": [
        "#*윤년 판별 프로그램\n",
        "#*윤년: 4년에 1번씩 2월 39일 하루를 추가해서 넣어 윤년이라 부름\n",
        "#윤년의 조건: 4의 배수이면서 100의 배수는 아닌 단 400의 배수는 윤년이란 인정된다.\n",
        "\n",
        "year = 400\n",
        "\n",
        "def deternice_laep_year(year):\n",
        "  if ((year % 4 ==  0)and(year % 100 != 0))or(year % 400 == 0):\n",
        "    print('%d년은 윤년입니다.'%year)\n",
        "  else:\n",
        "    print('%d년은 윤년이 아닙니다.'%year)\n",
        "deternice_laep_year(400)"
      ],
      "metadata": {
        "colab": {
          "base_uri": "https://localhost:8080/"
        },
        "id": "ZCG-G9S62pxZ",
        "outputId": "01fd3f47-015f-476c-d79a-438f24458d8c"
      },
      "execution_count": 53,
      "outputs": [
        {
          "output_type": "stream",
          "name": "stdout",
          "text": [
            "400년은 윤년입니다.\n"
          ]
        }
      ]
    },
    {
      "cell_type": "code",
      "source": [
        "# 메뉴판에 적혀있는 메뉴의 가격을 알려주는 프로그램\n",
        "# 떡볶이 8000원, 만두 6000원, 라면 5000원.. 이런 식으로 음식 가격 알려주고, 그외 다른 메뉴가 들어오면 '해당 메뉴는 저희 가게에서 판매하지 않습니다.' 라고 출력하는..\n",
        "print('채채 분식점에 오신 것을 환영합니다! 무슨 음식을 원하시나요?\\n저희 음식점은 떡볶이, 만두, 라면을 판매하고 있습니다!.\\n음식 가격이 궁금하시다면 아래 코스칸에 원하시는 음식을 말씀해주세요!')\n",
        "def cost(meun):\n",
        "  if meun == '떡볶이': #사용자가 떡볶이의 가격이 궁금할때\n",
        "    return '8000원입니다.'\n",
        "  elif meun == '만두':\n",
        "    return '6000원입니다.'\n",
        "  elif meun == '라면':\n",
        "    return '5000원입니다.'\n",
        "  else:\n",
        "    return '해당 메뉴는 저희 가게에서 판매하지 않습니다.'\n",
        "\n",
        "cost('만두') # 메뉴를 입력해주세용!"
      ],
      "metadata": {
        "colab": {
          "base_uri": "https://localhost:8080/",
          "height": 90
        },
        "id": "aXH781iz70Xu",
        "outputId": "d7bac66b-05e9-48fa-a2b7-f639c30f9c5d"
      },
      "execution_count": 59,
      "outputs": [
        {
          "output_type": "stream",
          "name": "stdout",
          "text": [
            "채채 분식점에 오신 것을 환영합니다! 무슨 음식을 원하시나요?\n",
            "저희 음식점은 떡볶이, 만두, 라면을 판매하고 있습니다!.\n",
            "음식 가격이 궁금하시다면 아래 코스칸에 원하시는 음식을 말씀해주세요!\n"
          ]
        },
        {
          "output_type": "execute_result",
          "data": {
            "text/plain": [
              "'6000원입니다.'"
            ],
            "application/vnd.google.colaboratory.intrinsic+json": {
              "type": "string"
            }
          },
          "metadata": {},
          "execution_count": 59
        }
      ]
    },
    {
      "cell_type": "markdown",
      "source": [
        "# 중첩 조건문\n",
        "* 말 그대로 조건문을 충접해서 코드를 쓴다!"
      ],
      "metadata": {
        "id": "Gg18W3sk_m6E"
      }
    },
    {
      "cell_type": "code",
      "source": [
        "#학점 판별기\n",
        "score = 74\n",
        "if score >= 90:\n",
        "  print('A')\n",
        "else:\n",
        "  if score >= 80:\n",
        "    print('B')\n",
        "  else:\n",
        "    if score >= 70:\n",
        "      print('C')\n",
        "    else:\n",
        "      if score >= 60:\n",
        "        print('D')\n",
        "      else:\n",
        "        if score >= 50:\n",
        "          print('E')\n",
        "        else:\n",
        "          print('I')"
      ],
      "metadata": {
        "colab": {
          "base_uri": "https://localhost:8080/"
        },
        "id": "kk6R2WWYAFyU",
        "outputId": "46ffc4a0-3d64-4058-f199-98aa461cd64e"
      },
      "execution_count": 62,
      "outputs": [
        {
          "output_type": "stream",
          "name": "stdout",
          "text": [
            "C\n"
          ]
        }
      ]
    },
    {
      "cell_type": "code",
      "source": [
        "score =100\n",
        "if score >= 90:\n",
        "  print('A')\n",
        "elif score >= 80:\n",
        "  print('B')\n",
        "elif score >= 70:\n",
        "  print('C')\n",
        "elif score >= 60:\n",
        "  print('D')\n",
        "elif score >= 50:\n",
        "  print('E')\n",
        "else:\n",
        "  print('I')"
      ],
      "metadata": {
        "colab": {
          "base_uri": "https://localhost:8080/"
        },
        "id": "NtzpHysdA-j9",
        "outputId": "3db6bed2-0532-46f1-edda-773f5c40af7b"
      },
      "execution_count": 65,
      "outputs": [
        {
          "output_type": "stream",
          "name": "stdout",
          "text": [
            "A\n"
          ]
        }
      ]
    }
  ]
}